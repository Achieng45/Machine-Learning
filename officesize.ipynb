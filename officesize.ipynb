{
  "nbformat": 4,
  "nbformat_minor": 0,
  "metadata": {
    "colab": {
      "name": "officesize.ipynb",
      "provenance": [],
      "collapsed_sections": [],
      "authorship_tag": "ABX9TyMakf1W5h6V3z1V1DUhLC0S",
      "include_colab_link": true
    },
    "kernelspec": {
      "name": "python3",
      "display_name": "Python 3"
    },
    "language_info": {
      "name": "python"
    }
  },
  "cells": [
    {
      "cell_type": "markdown",
      "metadata": {
        "id": "view-in-github",
        "colab_type": "text"
      },
      "source": [
        "<a href=\"https://colab.research.google.com/github/Achieng45/Machine-Learning/blob/main/officesize.ipynb\" target=\"_parent\"><img src=\"https://colab.research.google.com/assets/colab-badge.svg\" alt=\"Open In Colab\"/></a>"
      ]
    },
    {
      "cell_type": "code",
      "source": [
        "pip install faker"
      ],
      "metadata": {
        "colab": {
          "base_uri": "https://localhost:8080/"
        },
        "id": "7i1IcUPz66U6",
        "outputId": "73701728-a758-40b3-9cf9-9c3aab2897f1"
      },
      "execution_count": 323,
      "outputs": [
        {
          "output_type": "stream",
          "name": "stdout",
          "text": [
            "Looking in indexes: https://pypi.org/simple, https://us-python.pkg.dev/colab-wheels/public/simple/\n",
            "Requirement already satisfied: faker in /usr/local/lib/python3.7/dist-packages (13.14.0)\n",
            "Requirement already satisfied: python-dateutil>=2.4 in /usr/local/lib/python3.7/dist-packages (from faker) (2.8.2)\n",
            "Requirement already satisfied: typing-extensions>=3.10.0.2 in /usr/local/lib/python3.7/dist-packages (from faker) (4.1.1)\n",
            "Requirement already satisfied: six>=1.5 in /usr/local/lib/python3.7/dist-packages (from python-dateutil>=2.4->faker) (1.15.0)\n"
          ]
        }
      ]
    },
    {
      "cell_type": "code",
      "execution_count": 324,
      "metadata": {
        "id": "SffMN3AN6cj7"
      },
      "outputs": [],
      "source": [
        "from faker import Faker\n",
        "import faker.providers\n",
        "import pandas as pd\n",
        "import numpy as np\n",
        "import pickle\n",
        "import time\n",
        "import matplotlib.pyplot as plt\n",
        "import matplotlib.pyplot as px\n",
        "import matplotlib.pyplot as go\n",
        "import matplotlib.pyplot as trendline\n",
        "from sklearn import linear_model\n",
        "from sklearn.linear_model import LinearRegression\n",
        "from sklearn.metrics import mean_squared_error\n",
        "\n",
        "import datetime\n",
        "import random \n",
        "fake=Faker()"
      ]
    },
    {
      "cell_type": "code",
      "source": [
        "from numpy.ma.core import array\n",
        "\n",
        "def imbalanced_data(num=100, seed=None):\n",
        "  np.random.seed(seed)\n",
        "  fake.seed_instance(seed)\n",
        "  \n",
        "\n",
        "  \n",
        "  output=[\n",
        "          {\n",
        "             \"size\":np.random.normal(5,2,10)[0],\n",
        "             #\"size\":np.random.lognormal(500),\n",
        "             \"price\":np.random.normal(10,5,9)[0],\n",
        "          # \"predicted_price\":np.random.normal(9,9,9)[0],\n",
        "             \n",
        "              \n",
        "             \n",
        "          }\n",
        "          for i in range(num)\n",
        "  ]\n",
        "  return output"
      ],
      "metadata": {
        "id": "rnhSm2Kmygh8"
      },
      "execution_count": 325,
      "outputs": []
    },
    {
      "cell_type": "code",
      "source": [
        " \n",
        "df= pd.DataFrame(imbalanced_data(num=100,seed=0))\n",
        "df"
      ],
      "metadata": {
        "colab": {
          "base_uri": "https://localhost:8080/",
          "height": 424
        },
        "id": "vXFb2P4v1MCk",
        "outputId": "bf07f92f-d431-47e3-ab64-49a776720ccb"
      },
      "execution_count": 326,
      "outputs": [
        {
          "output_type": "execute_result",
          "data": {
            "text/plain": [
              "        size      price\n",
              "0   8.528105  10.720218\n",
              "1   3.291809  17.346794\n",
              "2   4.225346   1.930511\n",
              "3   5.604944  12.313911\n",
              "4   3.258406  15.893898\n",
              "..       ...        ...\n",
              "95  3.724319   2.765298\n",
              "96  3.154353   8.149179\n",
              "97  6.980243  10.528600\n",
              "98  3.718549   6.345632\n",
              "99  3.767758  18.987697\n",
              "\n",
              "[100 rows x 2 columns]"
            ],
            "text/html": [
              "\n",
              "  <div id=\"df-6b47430d-4969-44d5-ab4b-6c47b8716f38\">\n",
              "    <div class=\"colab-df-container\">\n",
              "      <div>\n",
              "<style scoped>\n",
              "    .dataframe tbody tr th:only-of-type {\n",
              "        vertical-align: middle;\n",
              "    }\n",
              "\n",
              "    .dataframe tbody tr th {\n",
              "        vertical-align: top;\n",
              "    }\n",
              "\n",
              "    .dataframe thead th {\n",
              "        text-align: right;\n",
              "    }\n",
              "</style>\n",
              "<table border=\"1\" class=\"dataframe\">\n",
              "  <thead>\n",
              "    <tr style=\"text-align: right;\">\n",
              "      <th></th>\n",
              "      <th>size</th>\n",
              "      <th>price</th>\n",
              "    </tr>\n",
              "  </thead>\n",
              "  <tbody>\n",
              "    <tr>\n",
              "      <th>0</th>\n",
              "      <td>8.528105</td>\n",
              "      <td>10.720218</td>\n",
              "    </tr>\n",
              "    <tr>\n",
              "      <th>1</th>\n",
              "      <td>3.291809</td>\n",
              "      <td>17.346794</td>\n",
              "    </tr>\n",
              "    <tr>\n",
              "      <th>2</th>\n",
              "      <td>4.225346</td>\n",
              "      <td>1.930511</td>\n",
              "    </tr>\n",
              "    <tr>\n",
              "      <th>3</th>\n",
              "      <td>5.604944</td>\n",
              "      <td>12.313911</td>\n",
              "    </tr>\n",
              "    <tr>\n",
              "      <th>4</th>\n",
              "      <td>3.258406</td>\n",
              "      <td>15.893898</td>\n",
              "    </tr>\n",
              "    <tr>\n",
              "      <th>...</th>\n",
              "      <td>...</td>\n",
              "      <td>...</td>\n",
              "    </tr>\n",
              "    <tr>\n",
              "      <th>95</th>\n",
              "      <td>3.724319</td>\n",
              "      <td>2.765298</td>\n",
              "    </tr>\n",
              "    <tr>\n",
              "      <th>96</th>\n",
              "      <td>3.154353</td>\n",
              "      <td>8.149179</td>\n",
              "    </tr>\n",
              "    <tr>\n",
              "      <th>97</th>\n",
              "      <td>6.980243</td>\n",
              "      <td>10.528600</td>\n",
              "    </tr>\n",
              "    <tr>\n",
              "      <th>98</th>\n",
              "      <td>3.718549</td>\n",
              "      <td>6.345632</td>\n",
              "    </tr>\n",
              "    <tr>\n",
              "      <th>99</th>\n",
              "      <td>3.767758</td>\n",
              "      <td>18.987697</td>\n",
              "    </tr>\n",
              "  </tbody>\n",
              "</table>\n",
              "<p>100 rows × 2 columns</p>\n",
              "</div>\n",
              "      <button class=\"colab-df-convert\" onclick=\"convertToInteractive('df-6b47430d-4969-44d5-ab4b-6c47b8716f38')\"\n",
              "              title=\"Convert this dataframe to an interactive table.\"\n",
              "              style=\"display:none;\">\n",
              "        \n",
              "  <svg xmlns=\"http://www.w3.org/2000/svg\" height=\"24px\"viewBox=\"0 0 24 24\"\n",
              "       width=\"24px\">\n",
              "    <path d=\"M0 0h24v24H0V0z\" fill=\"none\"/>\n",
              "    <path d=\"M18.56 5.44l.94 2.06.94-2.06 2.06-.94-2.06-.94-.94-2.06-.94 2.06-2.06.94zm-11 1L8.5 8.5l.94-2.06 2.06-.94-2.06-.94L8.5 2.5l-.94 2.06-2.06.94zm10 10l.94 2.06.94-2.06 2.06-.94-2.06-.94-.94-2.06-.94 2.06-2.06.94z\"/><path d=\"M17.41 7.96l-1.37-1.37c-.4-.4-.92-.59-1.43-.59-.52 0-1.04.2-1.43.59L10.3 9.45l-7.72 7.72c-.78.78-.78 2.05 0 2.83L4 21.41c.39.39.9.59 1.41.59.51 0 1.02-.2 1.41-.59l7.78-7.78 2.81-2.81c.8-.78.8-2.07 0-2.86zM5.41 20L4 18.59l7.72-7.72 1.47 1.35L5.41 20z\"/>\n",
              "  </svg>\n",
              "      </button>\n",
              "      \n",
              "  <style>\n",
              "    .colab-df-container {\n",
              "      display:flex;\n",
              "      flex-wrap:wrap;\n",
              "      gap: 12px;\n",
              "    }\n",
              "\n",
              "    .colab-df-convert {\n",
              "      background-color: #E8F0FE;\n",
              "      border: none;\n",
              "      border-radius: 50%;\n",
              "      cursor: pointer;\n",
              "      display: none;\n",
              "      fill: #1967D2;\n",
              "      height: 32px;\n",
              "      padding: 0 0 0 0;\n",
              "      width: 32px;\n",
              "    }\n",
              "\n",
              "    .colab-df-convert:hover {\n",
              "      background-color: #E2EBFA;\n",
              "      box-shadow: 0px 1px 2px rgba(60, 64, 67, 0.3), 0px 1px 3px 1px rgba(60, 64, 67, 0.15);\n",
              "      fill: #174EA6;\n",
              "    }\n",
              "\n",
              "    [theme=dark] .colab-df-convert {\n",
              "      background-color: #3B4455;\n",
              "      fill: #D2E3FC;\n",
              "    }\n",
              "\n",
              "    [theme=dark] .colab-df-convert:hover {\n",
              "      background-color: #434B5C;\n",
              "      box-shadow: 0px 1px 3px 1px rgba(0, 0, 0, 0.15);\n",
              "      filter: drop-shadow(0px 1px 2px rgba(0, 0, 0, 0.3));\n",
              "      fill: #FFFFFF;\n",
              "    }\n",
              "  </style>\n",
              "\n",
              "      <script>\n",
              "        const buttonEl =\n",
              "          document.querySelector('#df-6b47430d-4969-44d5-ab4b-6c47b8716f38 button.colab-df-convert');\n",
              "        buttonEl.style.display =\n",
              "          google.colab.kernel.accessAllowed ? 'block' : 'none';\n",
              "\n",
              "        async function convertToInteractive(key) {\n",
              "          const element = document.querySelector('#df-6b47430d-4969-44d5-ab4b-6c47b8716f38');\n",
              "          const dataTable =\n",
              "            await google.colab.kernel.invokeFunction('convertToInteractive',\n",
              "                                                     [key], {});\n",
              "          if (!dataTable) return;\n",
              "\n",
              "          const docLinkHtml = 'Like what you see? Visit the ' +\n",
              "            '<a target=\"_blank\" href=https://colab.research.google.com/notebooks/data_table.ipynb>data table notebook</a>'\n",
              "            + ' to learn more about interactive tables.';\n",
              "          element.innerHTML = '';\n",
              "          dataTable['output_type'] = 'display_data';\n",
              "          await google.colab.output.renderOutput(dataTable, element);\n",
              "          const docLink = document.createElement('div');\n",
              "          docLink.innerHTML = docLinkHtml;\n",
              "          element.appendChild(docLink);\n",
              "        }\n",
              "      </script>\n",
              "    </div>\n",
              "  </div>\n",
              "  "
            ]
          },
          "metadata": {},
          "execution_count": 326
        }
      ]
    },
    {
      "cell_type": "code",
      "source": [
        "df.plot(kind=\"scatter\",x=\"size\",y=\"price\")#x and y should be equal to plot scatter\n"
      ],
      "metadata": {
        "colab": {
          "base_uri": "https://localhost:8080/"
        },
        "id": "yW2J33ZBMbE7",
        "outputId": "4932d637-9511-47f9-c670-6100abec544b"
      },
      "execution_count": 327,
      "outputs": [
        {
          "output_type": "execute_result",
          "data": {
            "text/plain": [
              "<matplotlib.axes._subplots.AxesSubplot at 0x7fd35aa9ba10>"
            ]
          },
          "metadata": {},
          "execution_count": 327
        }
      ]
    },
    {
      "cell_type": "code",
      "source": [
        "sized=pd.DataFrame(df['size'])\n",
        "priced=pd.DataFrame(df['price'])"
      ],
      "metadata": {
        "id": "xpb3BRji0GR4"
      },
      "execution_count": 328,
      "outputs": []
    },
    {
      "cell_type": "code",
      "source": [
        "\"\"\"\n",
        "linear_reg=linear_model.LinearRegression()\n",
        "#added\n",
        "linear_reg.fit(sized,priced)\n",
        "##model=linear_reg.fit(sized,priced)\n",
        "\"\"\""
      ],
      "metadata": {
        "id": "QkJQ8V240Veo",
        "colab": {
          "base_uri": "https://localhost:8080/",
          "height": 35
        },
        "outputId": "2e2b28c8-2f18-4384-c279-946543bd3b1f"
      },
      "execution_count": 329,
      "outputs": [
        {
          "output_type": "execute_result",
          "data": {
            "text/plain": [
              "'\\nlinear_reg=linear_model.LinearRegression()\\n#added\\nlinear_reg.fit(sized,priced)\\n##model=linear_reg.fit(sized,priced)\\n'"
            ],
            "application/vnd.google.colaboratory.intrinsic+json": {
              "type": "string"
            }
          },
          "metadata": {},
          "execution_count": 329
        }
      ]
    },
    {
      "cell_type": "code",
      "source": [
        "#LinearRegression(copy_X=True,fit_intercept=True,n_jobs=1,normalize=True)"
      ],
      "metadata": {
        "id": "Fyc_Eteptsk-"
      },
      "execution_count": 330,
      "outputs": []
    },
    {
      "cell_type": "code",
      "source": [
        "#linear_reg.predict([[100]])"
      ],
      "metadata": {
        "id": "gOMEKzDGv1SP"
      },
      "execution_count": 331,
      "outputs": []
    },
    {
      "cell_type": "code",
      "source": [
        "#m=linear_reg.coef_\n",
        "m"
      ],
      "metadata": {
        "colab": {
          "base_uri": "https://localhost:8080/"
        },
        "id": "7moTLKxJ5Yi1",
        "outputId": "16713c8d-aae4-4bbb-b947-7213650c255f"
      },
      "execution_count": 332,
      "outputs": [
        {
          "output_type": "execute_result",
          "data": {
            "text/plain": [
              "1.6035574600884448"
            ]
          },
          "metadata": {},
          "execution_count": 332
        }
      ]
    },
    {
      "cell_type": "code",
      "source": [
        "#c=linear_reg.intercept_\n",
        "c"
      ],
      "metadata": {
        "colab": {
          "base_uri": "https://localhost:8080/"
        },
        "id": "m7g-XB2e5g_M",
        "outputId": "bf54ed31-9d53-45ef-f3e1-860c5d265f14"
      },
      "execution_count": 333,
      "outputs": [
        {
          "output_type": "execute_result",
          "data": {
            "text/plain": [
              "0.5373148942805732"
            ]
          },
          "metadata": {},
          "execution_count": 333
        }
      ]
    },
    {
      "cell_type": "code",
      "source": [
        "#linear_reg.score(sized,priced)"
      ],
      "metadata": {
        "id": "eIc0kJdG6I6V"
      },
      "execution_count": 334,
      "outputs": []
    },
    {
      "cell_type": "code",
      "source": [
        "x=df['size']\n",
        "y=df['price']\n",
        "\n",
        "m=0\n",
        "c=0\n",
        "L=0.001\n",
        "n=float(len(x))\n",
        "epoch=50\n",
        "for i in range(len(x)):\n",
        "  predicted_price =m*x+c\n",
        "  D_m = (-2/n) *sum(x * (y-predicted_price))\n",
        "  D_c=(-2/n) * sum(y -predicted_price)\n",
        "  m= m- L*D_m\n",
        "  c=c-L*D_c\n",
        "  print(m,c)\n"
      ],
      "metadata": {
        "colab": {
          "base_uri": "https://localhost:8080/"
        },
        "id": "zwnMp65P9XOE",
        "outputId": "57c652cc-3a4a-4c90-a75d-5226055dada7"
      },
      "execution_count": 335,
      "outputs": [
        {
          "output_type": "stream",
          "name": "stdout",
          "text": [
            "0.09713825719299653 0.019464394381302836\n",
            "0.18850897787406418 0.037928569763883924\n",
            "0.274453068156639 0.05545160272180401\n",
            "0.3552912843970397 0.07208907803392332\n",
            "0.4313254241753664 0.08789329507156626\n",
            "0.5028394468817299 0.10291346198734092\n",
            "0.5701005280685907 0.11719587842614404\n",
            "0.6333600514840596 0.13078410743676466\n",
            "0.6928545424696174 0.14371913722240057\n",
            "0.7488065461879954 0.1560395333306736\n",
            "0.8014254539421111 0.16778158184823141\n",
            "0.8509082806532139 0.17897942413162254\n",
            "0.8974403963850457 0.18966518357470577\n",
            "0.9411962146301955 0.19986908488328625\n",
            "0.9823398399142811 0.20961956629984957\n",
            "1.0210256771225368 0.21894338519508855\n",
            "1.057399004811262 0.22786571741828834\n",
            "1.0915965146328566 0.23641025077546146\n",
            "1.1237468188773487 0.2445992729823207\n",
            "1.1539709280149402 0.252453754418663\n",
            "1.1823827000126974 0.2599934259914342\n",
            "1.209089263093723 0.26723685239558315\n",
            "1.2341914135085281 0.2742015010447261\n",
            "1.2577839897955432 0.2809038069275631\n",
            "1.2799562249204157 0.2873592336308608\n",
            "1.3007920776015975 0.2935823307555826\n",
            "1.320370544052449 0.29958678793935456\n",
            "1.3387659512973686 0.30538548568585405\n",
            "1.356048233151045 0.3109905431898531\n",
            "1.3722831898855492 0.3164133633354926\n",
            "1.3875327325494247 0.3216646750348674\n",
            "1.4018551128459389 0.32675457306412775\n",
            "1.4153051394240448 0.3316925555450091\n",
            "1.4279343813851484 0.3364875592109616\n",
            "1.4397913597613101 0.3411479925888232\n",
            "1.4509217276758475 0.3456817672192417\n",
            "1.4613684398552809 0.35009632703176724\n",
            "1.4711719121220281 0.354398675983688\n",
            "1.48037017146005 0.3585954040652312\n",
            "1.4889989972106448 0.36269271176768914\n",
            "1.4970920539226606 0.36669643310532035\n",
            "1.5046810163503994 0.3706120572765082\n",
            "1.5117956870633382 0.37444474904460434\n",
            "1.518464107104355 0.37819936791413294\n",
            "1.5247126601073382 0.38188048617355735\n",
            "1.5305661702607725 0.38549240587160233\n",
            "1.5360479944810432 0.3890391747901661\n",
            "1.5411801091377033 0.39252460147312995\n",
            "1.5459831916527154 0.3959522693668682\n",
            "1.5504766972766517 0.39932555012496257\n",
            "1.5546789313269247 0.40264761612652145\n",
            "1.55860711715627 0.40592145225458653\n",
            "1.5622774601038545 0.40914986697835865\n",
            "1.5657052076664586 0.41233550278039266\n",
            "1.5689047061131545 0.415480845967478\n",
            "1.571889453753689 0.4185882359016323\n",
            "1.5746721510583626 0.4216598736854841\n",
            "1.5772647478154984 0.42469783033429276\n",
            "1.5796784875016 0.42770405446494986\n",
            "1.5819239490289465 0.43068037953051014\n",
            "1.5840110860256351 0.4336285306271154\n",
            "1.5859492637939179 0.4365501308985853\n",
            "1.587747294084064 0.4394467075624548\n",
            "1.58941346781286 0.4423196975798346\n",
            "1.590955585848236 0.4451704529901457\n",
            "1.5923809879743223 0.4480002459305368\n",
            "1.593696580144482 0.4508102733586216\n",
            "1.5949088601235155 0.4536016614960722\n",
            "1.5960239416142425 0.45637547000956646\n",
            "1.5970475769580492 0.4591326959446157\n",
            "1.5979851784936856 0.46187427742687653\n",
            "1.598841838653619 0.4646010971446919\n",
            "1.5996223488725643 0.46731398562579113\n",
            "1.600331217378398 0.47001372432031624\n",
            "1.6009726859315123 0.4727010485016209\n",
            "1.6015507455747682 0.47537664999561396\n",
            "1.6020691514525216 0.4780411797487806\n",
            "1.6025314367537509 0.4806952502444172\n",
            "1.6029409258310552 0.4833394377760513\n",
            "1.6033007465442346 0.4859742845864871\n",
            "1.603613841874286 0.48860030088042017\n",
            "1.6038829808509356 0.49121796671809315\n",
            "1.604110768834284 0.4938277337970246\n",
            "1.6042996571887396 0.49643002712842577\n",
            "1.6044519523851606 0.4990252466145305\n",
            "1.6045698245650004 0.5016137685326948\n",
            "1.604655315598258 0.5041959469317762\n",
            "1.6047103466651493 0.5067721149459785\n",
            "1.6047367253896563 0.5093425860310398\n",
            "1.6047361525514332 0.511907655127353\n",
            "1.604710228400998 0.5144675997543399\n",
            "1.604660458601655 0.5170226810401387\n",
            "1.604588259820212 0.5195731446904324\n",
            "1.6044949649872469 0.5221192219000117\n",
            "1.604381828246463 0.5246611302104593\n",
            "1.6042500296115023 0.5271990743171394\n",
            "1.6041006793475114 0.5297332468284885\n",
            "1.6039348220937302 0.5322638289804283\n",
            "1.6037534407424068 0.5347909913085507\n",
            "1.6035574600884448 0.5373148942805732\n"
          ]
        }
      ]
    },
    {
      "cell_type": "code",
      "source": [
        "#y=m*x+b\n",
        "predicted_price=m*x+c\n",
        "predicted_price\n",
        "\n"
      ],
      "metadata": {
        "colab": {
          "base_uri": "https://localhost:8080/"
        },
        "id": "GUEHDMcG6IWb",
        "outputId": "d23385ab-f416-466a-f208-716412745bbb"
      },
      "execution_count": 336,
      "outputs": [
        {
          "output_type": "execute_result",
          "data": {
            "text/plain": [
              "0     14.212621\n",
              "1      5.815919\n",
              "2      7.312901\n",
              "3      9.525164\n",
              "4      5.762356\n",
              "        ...    \n",
              "95     6.509474\n",
              "96     5.595502\n",
              "97    11.730535\n",
              "98     6.500221\n",
              "99     6.579131\n",
              "Name: size, Length: 100, dtype: float64"
            ]
          },
          "metadata": {},
          "execution_count": 336
        }
      ]
    },
    {
      "cell_type": "code",
      "source": [
        "#predict price of 100 squareft\n",
        "p=m*100+c\n",
        "p"
      ],
      "metadata": {
        "colab": {
          "base_uri": "https://localhost:8080/"
        },
        "id": "5ssOcpLbMCHc",
        "outputId": "8e9d0b65-21fe-4b07-c8ad-c28453b1f94e"
      },
      "execution_count": 351,
      "outputs": [
        {
          "output_type": "execute_result",
          "data": {
            "text/plain": [
              "160.89306090312505"
            ]
          },
          "metadata": {},
          "execution_count": 351
        }
      ]
    },
    {
      "cell_type": "code",
      "source": [
        "df['predicted_price']=predicted_price\n",
        "df"
      ],
      "metadata": {
        "colab": {
          "base_uri": "https://localhost:8080/",
          "height": 424
        },
        "id": "OqQFfpwZxWDs",
        "outputId": "2aa1f3d0-7c22-4d5a-dab5-71dea9a809d7"
      },
      "execution_count": 337,
      "outputs": [
        {
          "output_type": "execute_result",
          "data": {
            "text/plain": [
              "        size      price  predicted_price\n",
              "0   8.528105  10.720218        14.212621\n",
              "1   3.291809  17.346794         5.815919\n",
              "2   4.225346   1.930511         7.312901\n",
              "3   5.604944  12.313911         9.525164\n",
              "4   3.258406  15.893898         5.762356\n",
              "..       ...        ...              ...\n",
              "95  3.724319   2.765298         6.509474\n",
              "96  3.154353   8.149179         5.595502\n",
              "97  6.980243  10.528600        11.730535\n",
              "98  3.718549   6.345632         6.500221\n",
              "99  3.767758  18.987697         6.579131\n",
              "\n",
              "[100 rows x 3 columns]"
            ],
            "text/html": [
              "\n",
              "  <div id=\"df-d932a9f4-bb97-408b-b63a-00d31f0801f0\">\n",
              "    <div class=\"colab-df-container\">\n",
              "      <div>\n",
              "<style scoped>\n",
              "    .dataframe tbody tr th:only-of-type {\n",
              "        vertical-align: middle;\n",
              "    }\n",
              "\n",
              "    .dataframe tbody tr th {\n",
              "        vertical-align: top;\n",
              "    }\n",
              "\n",
              "    .dataframe thead th {\n",
              "        text-align: right;\n",
              "    }\n",
              "</style>\n",
              "<table border=\"1\" class=\"dataframe\">\n",
              "  <thead>\n",
              "    <tr style=\"text-align: right;\">\n",
              "      <th></th>\n",
              "      <th>size</th>\n",
              "      <th>price</th>\n",
              "      <th>predicted_price</th>\n",
              "    </tr>\n",
              "  </thead>\n",
              "  <tbody>\n",
              "    <tr>\n",
              "      <th>0</th>\n",
              "      <td>8.528105</td>\n",
              "      <td>10.720218</td>\n",
              "      <td>14.212621</td>\n",
              "    </tr>\n",
              "    <tr>\n",
              "      <th>1</th>\n",
              "      <td>3.291809</td>\n",
              "      <td>17.346794</td>\n",
              "      <td>5.815919</td>\n",
              "    </tr>\n",
              "    <tr>\n",
              "      <th>2</th>\n",
              "      <td>4.225346</td>\n",
              "      <td>1.930511</td>\n",
              "      <td>7.312901</td>\n",
              "    </tr>\n",
              "    <tr>\n",
              "      <th>3</th>\n",
              "      <td>5.604944</td>\n",
              "      <td>12.313911</td>\n",
              "      <td>9.525164</td>\n",
              "    </tr>\n",
              "    <tr>\n",
              "      <th>4</th>\n",
              "      <td>3.258406</td>\n",
              "      <td>15.893898</td>\n",
              "      <td>5.762356</td>\n",
              "    </tr>\n",
              "    <tr>\n",
              "      <th>...</th>\n",
              "      <td>...</td>\n",
              "      <td>...</td>\n",
              "      <td>...</td>\n",
              "    </tr>\n",
              "    <tr>\n",
              "      <th>95</th>\n",
              "      <td>3.724319</td>\n",
              "      <td>2.765298</td>\n",
              "      <td>6.509474</td>\n",
              "    </tr>\n",
              "    <tr>\n",
              "      <th>96</th>\n",
              "      <td>3.154353</td>\n",
              "      <td>8.149179</td>\n",
              "      <td>5.595502</td>\n",
              "    </tr>\n",
              "    <tr>\n",
              "      <th>97</th>\n",
              "      <td>6.980243</td>\n",
              "      <td>10.528600</td>\n",
              "      <td>11.730535</td>\n",
              "    </tr>\n",
              "    <tr>\n",
              "      <th>98</th>\n",
              "      <td>3.718549</td>\n",
              "      <td>6.345632</td>\n",
              "      <td>6.500221</td>\n",
              "    </tr>\n",
              "    <tr>\n",
              "      <th>99</th>\n",
              "      <td>3.767758</td>\n",
              "      <td>18.987697</td>\n",
              "      <td>6.579131</td>\n",
              "    </tr>\n",
              "  </tbody>\n",
              "</table>\n",
              "<p>100 rows × 3 columns</p>\n",
              "</div>\n",
              "      <button class=\"colab-df-convert\" onclick=\"convertToInteractive('df-d932a9f4-bb97-408b-b63a-00d31f0801f0')\"\n",
              "              title=\"Convert this dataframe to an interactive table.\"\n",
              "              style=\"display:none;\">\n",
              "        \n",
              "  <svg xmlns=\"http://www.w3.org/2000/svg\" height=\"24px\"viewBox=\"0 0 24 24\"\n",
              "       width=\"24px\">\n",
              "    <path d=\"M0 0h24v24H0V0z\" fill=\"none\"/>\n",
              "    <path d=\"M18.56 5.44l.94 2.06.94-2.06 2.06-.94-2.06-.94-.94-2.06-.94 2.06-2.06.94zm-11 1L8.5 8.5l.94-2.06 2.06-.94-2.06-.94L8.5 2.5l-.94 2.06-2.06.94zm10 10l.94 2.06.94-2.06 2.06-.94-2.06-.94-.94-2.06-.94 2.06-2.06.94z\"/><path d=\"M17.41 7.96l-1.37-1.37c-.4-.4-.92-.59-1.43-.59-.52 0-1.04.2-1.43.59L10.3 9.45l-7.72 7.72c-.78.78-.78 2.05 0 2.83L4 21.41c.39.39.9.59 1.41.59.51 0 1.02-.2 1.41-.59l7.78-7.78 2.81-2.81c.8-.78.8-2.07 0-2.86zM5.41 20L4 18.59l7.72-7.72 1.47 1.35L5.41 20z\"/>\n",
              "  </svg>\n",
              "      </button>\n",
              "      \n",
              "  <style>\n",
              "    .colab-df-container {\n",
              "      display:flex;\n",
              "      flex-wrap:wrap;\n",
              "      gap: 12px;\n",
              "    }\n",
              "\n",
              "    .colab-df-convert {\n",
              "      background-color: #E8F0FE;\n",
              "      border: none;\n",
              "      border-radius: 50%;\n",
              "      cursor: pointer;\n",
              "      display: none;\n",
              "      fill: #1967D2;\n",
              "      height: 32px;\n",
              "      padding: 0 0 0 0;\n",
              "      width: 32px;\n",
              "    }\n",
              "\n",
              "    .colab-df-convert:hover {\n",
              "      background-color: #E2EBFA;\n",
              "      box-shadow: 0px 1px 2px rgba(60, 64, 67, 0.3), 0px 1px 3px 1px rgba(60, 64, 67, 0.15);\n",
              "      fill: #174EA6;\n",
              "    }\n",
              "\n",
              "    [theme=dark] .colab-df-convert {\n",
              "      background-color: #3B4455;\n",
              "      fill: #D2E3FC;\n",
              "    }\n",
              "\n",
              "    [theme=dark] .colab-df-convert:hover {\n",
              "      background-color: #434B5C;\n",
              "      box-shadow: 0px 1px 3px 1px rgba(0, 0, 0, 0.15);\n",
              "      filter: drop-shadow(0px 1px 2px rgba(0, 0, 0, 0.3));\n",
              "      fill: #FFFFFF;\n",
              "    }\n",
              "  </style>\n",
              "\n",
              "      <script>\n",
              "        const buttonEl =\n",
              "          document.querySelector('#df-d932a9f4-bb97-408b-b63a-00d31f0801f0 button.colab-df-convert');\n",
              "        buttonEl.style.display =\n",
              "          google.colab.kernel.accessAllowed ? 'block' : 'none';\n",
              "\n",
              "        async function convertToInteractive(key) {\n",
              "          const element = document.querySelector('#df-d932a9f4-bb97-408b-b63a-00d31f0801f0');\n",
              "          const dataTable =\n",
              "            await google.colab.kernel.invokeFunction('convertToInteractive',\n",
              "                                                     [key], {});\n",
              "          if (!dataTable) return;\n",
              "\n",
              "          const docLinkHtml = 'Like what you see? Visit the ' +\n",
              "            '<a target=\"_blank\" href=https://colab.research.google.com/notebooks/data_table.ipynb>data table notebook</a>'\n",
              "            + ' to learn more about interactive tables.';\n",
              "          element.innerHTML = '';\n",
              "          dataTable['output_type'] = 'display_data';\n",
              "          await google.colab.output.renderOutput(dataTable, element);\n",
              "          const docLink = document.createElement('div');\n",
              "          docLink.innerHTML = docLinkHtml;\n",
              "          element.appendChild(docLink);\n",
              "        }\n",
              "      </script>\n",
              "    </div>\n",
              "  </div>\n",
              "  "
            ]
          },
          "metadata": {},
          "execution_count": 337
        }
      ]
    },
    {
      "cell_type": "code",
      "source": [
        "x=pd.DataFrame(df['price'])\n",
        "mse=sum([(y-df['predicted_price']**2)*1/len(df)for y in df['price']])\n",
        "df_mse=pd.DataFrame({'size':df['size'],'price':df['size'],'predicted price':df['predicted_price'],'MSE':mse})\n",
        "df_mse\n",
        "\n"
      ],
      "metadata": {
        "colab": {
          "base_uri": "https://localhost:8080/",
          "height": 424
        },
        "id": "Tn07NfNOLrJ8",
        "outputId": "71fe503c-61e5-443d-ac26-21daf10bfbfc"
      },
      "execution_count": 338,
      "outputs": [
        {
          "output_type": "execute_result",
          "data": {
            "text/plain": [
              "        size     price  predicted price         MSE\n",
              "0   8.528105  8.528105        14.212621 -192.266393\n",
              "1   3.291809  3.291809         5.815919  -24.092717\n",
              "2   4.225346  4.225346         7.312901  -43.746318\n",
              "3   5.604944  5.604944         9.525164  -80.996558\n",
              "4   3.258406  3.258406         5.762356  -23.472546\n",
              "..       ...       ...              ...         ...\n",
              "95  3.724319  3.724319         6.509474  -32.641058\n",
              "96  3.154353  3.154353         5.595502  -21.577443\n",
              "97  6.980243  6.980243        11.730535 -127.873260\n",
              "98  3.718549  3.718549         6.500221  -32.520678\n",
              "99  3.767758  3.767758         6.579131  -33.552767\n",
              "\n",
              "[100 rows x 4 columns]"
            ],
            "text/html": [
              "\n",
              "  <div id=\"df-359fbfbd-2d63-4237-bb43-45dcce49c94e\">\n",
              "    <div class=\"colab-df-container\">\n",
              "      <div>\n",
              "<style scoped>\n",
              "    .dataframe tbody tr th:only-of-type {\n",
              "        vertical-align: middle;\n",
              "    }\n",
              "\n",
              "    .dataframe tbody tr th {\n",
              "        vertical-align: top;\n",
              "    }\n",
              "\n",
              "    .dataframe thead th {\n",
              "        text-align: right;\n",
              "    }\n",
              "</style>\n",
              "<table border=\"1\" class=\"dataframe\">\n",
              "  <thead>\n",
              "    <tr style=\"text-align: right;\">\n",
              "      <th></th>\n",
              "      <th>size</th>\n",
              "      <th>price</th>\n",
              "      <th>predicted price</th>\n",
              "      <th>MSE</th>\n",
              "    </tr>\n",
              "  </thead>\n",
              "  <tbody>\n",
              "    <tr>\n",
              "      <th>0</th>\n",
              "      <td>8.528105</td>\n",
              "      <td>8.528105</td>\n",
              "      <td>14.212621</td>\n",
              "      <td>-192.266393</td>\n",
              "    </tr>\n",
              "    <tr>\n",
              "      <th>1</th>\n",
              "      <td>3.291809</td>\n",
              "      <td>3.291809</td>\n",
              "      <td>5.815919</td>\n",
              "      <td>-24.092717</td>\n",
              "    </tr>\n",
              "    <tr>\n",
              "      <th>2</th>\n",
              "      <td>4.225346</td>\n",
              "      <td>4.225346</td>\n",
              "      <td>7.312901</td>\n",
              "      <td>-43.746318</td>\n",
              "    </tr>\n",
              "    <tr>\n",
              "      <th>3</th>\n",
              "      <td>5.604944</td>\n",
              "      <td>5.604944</td>\n",
              "      <td>9.525164</td>\n",
              "      <td>-80.996558</td>\n",
              "    </tr>\n",
              "    <tr>\n",
              "      <th>4</th>\n",
              "      <td>3.258406</td>\n",
              "      <td>3.258406</td>\n",
              "      <td>5.762356</td>\n",
              "      <td>-23.472546</td>\n",
              "    </tr>\n",
              "    <tr>\n",
              "      <th>...</th>\n",
              "      <td>...</td>\n",
              "      <td>...</td>\n",
              "      <td>...</td>\n",
              "      <td>...</td>\n",
              "    </tr>\n",
              "    <tr>\n",
              "      <th>95</th>\n",
              "      <td>3.724319</td>\n",
              "      <td>3.724319</td>\n",
              "      <td>6.509474</td>\n",
              "      <td>-32.641058</td>\n",
              "    </tr>\n",
              "    <tr>\n",
              "      <th>96</th>\n",
              "      <td>3.154353</td>\n",
              "      <td>3.154353</td>\n",
              "      <td>5.595502</td>\n",
              "      <td>-21.577443</td>\n",
              "    </tr>\n",
              "    <tr>\n",
              "      <th>97</th>\n",
              "      <td>6.980243</td>\n",
              "      <td>6.980243</td>\n",
              "      <td>11.730535</td>\n",
              "      <td>-127.873260</td>\n",
              "    </tr>\n",
              "    <tr>\n",
              "      <th>98</th>\n",
              "      <td>3.718549</td>\n",
              "      <td>3.718549</td>\n",
              "      <td>6.500221</td>\n",
              "      <td>-32.520678</td>\n",
              "    </tr>\n",
              "    <tr>\n",
              "      <th>99</th>\n",
              "      <td>3.767758</td>\n",
              "      <td>3.767758</td>\n",
              "      <td>6.579131</td>\n",
              "      <td>-33.552767</td>\n",
              "    </tr>\n",
              "  </tbody>\n",
              "</table>\n",
              "<p>100 rows × 4 columns</p>\n",
              "</div>\n",
              "      <button class=\"colab-df-convert\" onclick=\"convertToInteractive('df-359fbfbd-2d63-4237-bb43-45dcce49c94e')\"\n",
              "              title=\"Convert this dataframe to an interactive table.\"\n",
              "              style=\"display:none;\">\n",
              "        \n",
              "  <svg xmlns=\"http://www.w3.org/2000/svg\" height=\"24px\"viewBox=\"0 0 24 24\"\n",
              "       width=\"24px\">\n",
              "    <path d=\"M0 0h24v24H0V0z\" fill=\"none\"/>\n",
              "    <path d=\"M18.56 5.44l.94 2.06.94-2.06 2.06-.94-2.06-.94-.94-2.06-.94 2.06-2.06.94zm-11 1L8.5 8.5l.94-2.06 2.06-.94-2.06-.94L8.5 2.5l-.94 2.06-2.06.94zm10 10l.94 2.06.94-2.06 2.06-.94-2.06-.94-.94-2.06-.94 2.06-2.06.94z\"/><path d=\"M17.41 7.96l-1.37-1.37c-.4-.4-.92-.59-1.43-.59-.52 0-1.04.2-1.43.59L10.3 9.45l-7.72 7.72c-.78.78-.78 2.05 0 2.83L4 21.41c.39.39.9.59 1.41.59.51 0 1.02-.2 1.41-.59l7.78-7.78 2.81-2.81c.8-.78.8-2.07 0-2.86zM5.41 20L4 18.59l7.72-7.72 1.47 1.35L5.41 20z\"/>\n",
              "  </svg>\n",
              "      </button>\n",
              "      \n",
              "  <style>\n",
              "    .colab-df-container {\n",
              "      display:flex;\n",
              "      flex-wrap:wrap;\n",
              "      gap: 12px;\n",
              "    }\n",
              "\n",
              "    .colab-df-convert {\n",
              "      background-color: #E8F0FE;\n",
              "      border: none;\n",
              "      border-radius: 50%;\n",
              "      cursor: pointer;\n",
              "      display: none;\n",
              "      fill: #1967D2;\n",
              "      height: 32px;\n",
              "      padding: 0 0 0 0;\n",
              "      width: 32px;\n",
              "    }\n",
              "\n",
              "    .colab-df-convert:hover {\n",
              "      background-color: #E2EBFA;\n",
              "      box-shadow: 0px 1px 2px rgba(60, 64, 67, 0.3), 0px 1px 3px 1px rgba(60, 64, 67, 0.15);\n",
              "      fill: #174EA6;\n",
              "    }\n",
              "\n",
              "    [theme=dark] .colab-df-convert {\n",
              "      background-color: #3B4455;\n",
              "      fill: #D2E3FC;\n",
              "    }\n",
              "\n",
              "    [theme=dark] .colab-df-convert:hover {\n",
              "      background-color: #434B5C;\n",
              "      box-shadow: 0px 1px 3px 1px rgba(0, 0, 0, 0.15);\n",
              "      filter: drop-shadow(0px 1px 2px rgba(0, 0, 0, 0.3));\n",
              "      fill: #FFFFFF;\n",
              "    }\n",
              "  </style>\n",
              "\n",
              "      <script>\n",
              "        const buttonEl =\n",
              "          document.querySelector('#df-359fbfbd-2d63-4237-bb43-45dcce49c94e button.colab-df-convert');\n",
              "        buttonEl.style.display =\n",
              "          google.colab.kernel.accessAllowed ? 'block' : 'none';\n",
              "\n",
              "        async function convertToInteractive(key) {\n",
              "          const element = document.querySelector('#df-359fbfbd-2d63-4237-bb43-45dcce49c94e');\n",
              "          const dataTable =\n",
              "            await google.colab.kernel.invokeFunction('convertToInteractive',\n",
              "                                                     [key], {});\n",
              "          if (!dataTable) return;\n",
              "\n",
              "          const docLinkHtml = 'Like what you see? Visit the ' +\n",
              "            '<a target=\"_blank\" href=https://colab.research.google.com/notebooks/data_table.ipynb>data table notebook</a>'\n",
              "            + ' to learn more about interactive tables.';\n",
              "          element.innerHTML = '';\n",
              "          dataTable['output_type'] = 'display_data';\n",
              "          await google.colab.output.renderOutput(dataTable, element);\n",
              "          const docLink = document.createElement('div');\n",
              "          docLink.innerHTML = docLinkHtml;\n",
              "          element.appendChild(docLink);\n",
              "        }\n",
              "      </script>\n",
              "    </div>\n",
              "  </div>\n",
              "  "
            ]
          },
          "metadata": {},
          "execution_count": 338
        }
      ]
    },
    {
      "cell_type": "code",
      "source": [
        "def gradient_descent_fit(m,c,n,L):\n",
        " epoch_error_list=[]\n",
        " epoch_count_list=[]\n",
        " for i in range(epoch):\n",
        "    predicted_price=m*x+c\n",
        "    epoch_count_list=epoch_count_list[:]\n",
        "    epoch_count_list.append(i)\n",
        "    epoch_error=mse(n,y,predicted_price)\n",
        "    epoch_error_list=epoch_error_list[:]\n",
        "    epoch_error_list.append(epoch_error)\n",
        "    D_m = (-2/n) *sum(x * (y-predicted_price))\n",
        "    D_c=(-2/n) * sum(y -predicted_price)\n",
        "    m= m- L*D_m\n",
        "    c=c-L*D_c\n",
        "    print(m,c)\n",
        "\n",
        " return predicted_price,epoch_count_list,epoch_error_list"
      ],
      "metadata": {
        "id": "e30Q3080D6Re"
      },
      "execution_count": 347,
      "outputs": []
    },
    {
      "cell_type": "code",
      "source": [
        "%matplotlib inline\n",
        "plt.xlabel('size',fontsize=20)\n",
        "plt.ylabel('price',fontsize=20)\n",
        "plt.scatter(df['size'],df['price'])\n",
        "plt.plot(df['size'],df['predicted_price'],color=\"red\")"
      ],
      "metadata": {
        "colab": {
          "base_uri": "https://localhost:8080/",
          "height": 306
        },
        "id": "Z3i2GNf3ycke",
        "outputId": "1157b7bd-3aa2-40e9-a1be-7ebf614f6aa1"
      },
      "execution_count": 343,
      "outputs": [
        {
          "output_type": "execute_result",
          "data": {
            "text/plain": [
              "[<matplotlib.lines.Line2D at 0x7fd35a6f2d50>]"
            ]
          },
          "metadata": {},
          "execution_count": 343
        },
        {
          "output_type": "display_data",
          "data": {
            "text/plain": [
              "<Figure size 432x288 with 1 Axes>"
            ],
            "image/png": "[encoded data removed]"
          },
          "metadata": {
            "needs_background": "light"
          }
        }
      ]
    },
    {
      "cell_type": "code",
      "source": [
        "x=df['size']\n",
        "y=df['price']\n",
        "Fig=px.scatter(x,y)\n",
        "Fig=px.plot([min(x),max(x)],[min(df['predicted_price']),max(df['predicted_price'])],color='black')\n",
        "\n",
        "\n",
        "\n"
      ],
      "metadata": {
        "colab": {
          "base_uri": "https://localhost:8080/",
          "height": 265
        },
        "id": "vPqhYFcX3JMB",
        "outputId": "40a9d022-f4a7-4b90-896f-64bfba38be39"
      },
      "execution_count": 345,
      "outputs": [
        {
          "output_type": "display_data",
          "data": {
            "text/plain": [
              "<Figure size 432x288 with 1 Axes>"
            ],
            "image/png": "[encoded data removed]"
          },
          "metadata": {
            "needs_background": "light"
          }
        }
      ]
    }
  ]
}